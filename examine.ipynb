{
 "cells": [
  {
   "cell_type": "markdown",
   "metadata": {},
   "source": [
    "# Dataset Explore"
   ]
  },
  {
   "cell_type": "code",
   "execution_count": 6,
   "metadata": {},
   "outputs": [],
   "source": [
    "import pickle as pkl\n",
    "import os\n",
    "from src.dataset import Multimodal_Datasets"
   ]
  },
  {
   "cell_type": "code",
   "execution_count": 2,
   "metadata": {},
   "outputs": [],
   "source": [
    "dataset_path = '/data1/multimodal/MulT/data/'"
   ]
  },
  {
   "cell_type": "markdown",
   "metadata": {},
   "source": [
    "## Unaligned set"
   ]
  },
  {
   "cell_type": "code",
   "execution_count": 21,
   "metadata": {},
   "outputs": [],
   "source": [
    "# Unaligned\n",
    "mosi_train_dataset = Multimodal_Datasets(dataset_path, data='mosi', split_type='train', if_align=False)\n",
    "mosi_test_dataset = Multimodal_Datasets(dataset_path, data='mosi', split_type='test', if_align=False)\n",
    "mosei_train_dataset = Multimodal_Datasets(dataset_path, data='mosei_senti', split_type='train', if_align=False)\n",
    "mosei_test_dataset = Multimodal_Datasets(dataset_path, data='mosei_senti', split_type='test', if_align=False)"
   ]
  },
  {
   "cell_type": "code",
   "execution_count": 4,
   "metadata": {},
   "outputs": [],
   "source": [
    "datasets = [mosi_train_dataset, mosi_test_dataset, mosei_train_dataset, mosei_test_dataset]"
   ]
  },
  {
   "cell_type": "code",
   "execution_count": 5,
   "metadata": {},
   "outputs": [
    {
     "data": {
      "application/vnd.jupyter.widget-view+json": {
       "model_id": "9cb35b1987c94b3ea88e643dbdcf8c31",
       "version_major": 2,
       "version_minor": 0
      },
      "text/plain": [
       "interactive(children=(Dropdown(description='idx', options=(0, 1, 2, 3), value=0), Output()), _dom_classes=('wi…"
      ]
     },
     "metadata": {},
     "output_type": "display_data"
    }
   ],
   "source": [
    "from tqdm import tqdm\n",
    "import ipywidgets as widgets\n",
    "from ipywidgets import interact, interact_manual\n",
    "\n",
    "@interact\n",
    "def get_explore(idx=range(len(datasets))):\n",
    "    name = datasets[idx].data + '_' + datasets[idx].split_type\n",
    "    print(\"!! %s !!\" % name.upper())\n",
    "    print(\"number of modalities               :\", datasets[idx].get_n_modalities())\n",
    "    print(\"seq_len of (text, audio, vision)   :\", datasets[idx].get_seq_len())\n",
    "    print(\"get_dim of (text, audio, vision)   :\", datasets[idx].get_dim())\n",
    "    print(\"(number of labels, label_dim)      :\", datasets[idx].get_lbl_info())"
   ]
  },
  {
   "cell_type": "code",
   "execution_count": 32,
   "metadata": {},
   "outputs": [],
   "source": [
    "with open(dataset_path+'mosi_data_noalign.pkl', 'rb') as f:\n",
    "    mosi = pkl.load(f)\n",
    "with open(dataset_path+'mosei_senti_data_noalign.pkl', 'rb') as f:\n",
    "    mosei = pkl.load(f)"
   ]
  },
  {
   "cell_type": "code",
   "execution_count": 35,
   "metadata": {},
   "outputs": [],
   "source": [
    "train_mosi = mosi['train']\n",
    "train_mosei = mosei['train']\n",
    "test_mosi = mosi['test']\n",
    "test_mosei = mosei['test']"
   ]
  },
  {
   "cell_type": "code",
   "execution_count": 31,
   "metadata": {},
   "outputs": [
    {
     "data": {
      "application/vnd.jupyter.widget-view+json": {
       "model_id": "6780c44602be48e9a01feeb6320b8e38",
       "version_major": 2,
       "version_minor": 0
      },
      "text/plain": [
       "interactive(children=(Dropdown(description='idx', options=(0, 1, 2, 3, 4, 5, 6, 7, 8, 9, 10, 11, 12, 13, 14, 1…"
      ]
     },
     "metadata": {},
     "output_type": "display_data"
    }
   ],
   "source": [
    "@interact\n",
    "def get_mosi_sample(idx = range(len(test_mosi['text']))):\n",
    "    print(\"TEXT\", test_mosi['text'][idx].shape)\n",
    "    print(\"VISION\", test_mosi['vision'][idx].shape)\n",
    "    print(\"AUDIO\", test_mosi['audio'][idx].shape)\n",
    "    print(\"LABEL\", test_mosi['labels'][idx])\n",
    "    print(\"ID\", test_mosi['id'][idx])"
   ]
  },
  {
   "cell_type": "code",
   "execution_count": 34,
   "metadata": {},
   "outputs": [
    {
     "data": {
      "application/vnd.jupyter.widget-view+json": {
       "model_id": "e3e339b41d2547eeaad3844b0bcb91b5",
       "version_major": 2,
       "version_minor": 0
      },
      "text/plain": [
       "interactive(children=(Dropdown(description='idx', options=(0, 1, 2, 3, 4, 5, 6, 7, 8, 9, 10, 11, 12, 13, 14, 1…"
      ]
     },
     "metadata": {},
     "output_type": "display_data"
    }
   ],
   "source": [
    "@interact\n",
    "def get_mosi_sample(idx = range(len(test_mosei['text']))):\n",
    "    print(\"TEXT\", test_mosei['text'][idx].shape)\n",
    "    print(\"VISION\", test_mosei['vision'][idx].shape)\n",
    "    print(\"AUDIO\", test_mosei['audio'][idx].shape)\n",
    "    print(\"LABEL\", test_mosei['labels'][idx])\n",
    "    print(\"ID\", test_mosei['id'][idx])"
   ]
  },
  {
   "cell_type": "code",
   "execution_count": 36,
   "metadata": {},
   "outputs": [
    {
     "data": {
      "application/vnd.jupyter.widget-view+json": {
       "model_id": "36fba55fa7b043b8a27b082cedddb980",
       "version_major": 2,
       "version_minor": 0
      },
      "text/plain": [
       "interactive(children=(Dropdown(description='idx', options=(0, 1, 2, 3, 4, 5, 6, 7, 8, 9, 10, 11, 12, 13, 14, 1…"
      ]
     },
     "metadata": {},
     "output_type": "display_data"
    }
   ],
   "source": [
    "@interact\n",
    "def get_mosi_sample(idx = range(len(train_mosei['text']))):\n",
    "    print(\"TEXT\", train_mosei['text'][idx].shape)\n",
    "    print(\"VISION\", train_mosei['vision'][idx].shape)\n",
    "    print(\"AUDIO\", train_mosei['audio'][idx].shape)\n",
    "    print(\"LABEL\", train_mosei['labels'][idx])\n",
    "    print(\"ID\", train_mosei['id'][idx])"
   ]
  },
  {
   "cell_type": "markdown",
   "metadata": {},
   "source": [
    "## Aligned set"
   ]
  },
  {
   "cell_type": "code",
   "execution_count": 22,
   "metadata": {},
   "outputs": [],
   "source": [
    "# Aligned\n",
    "mosi_train_aligned = Multimodal_Datasets(dataset_path, data='mosi', split_type='train', if_align=True)\n",
    "mosi_test_aligned = Multimodal_Datasets(dataset_path, data='mosi', split_type='test', if_align=True)\n",
    "mosei_train_aligned = Multimodal_Datasets(dataset_path, data='mosei_senti', split_type='train', if_align=True)\n",
    "mosei_test_aligned = Multimodal_Datasets(dataset_path, data='mosei_senti', split_type='test', if_align=True)"
   ]
  },
  {
   "cell_type": "code",
   "execution_count": 23,
   "metadata": {},
   "outputs": [],
   "source": [
    "aligned_datasets = [mosi_train_aligned, mosi_test_aligned, mosei_train_aligned, mosei_test_aligned]"
   ]
  },
  {
   "cell_type": "code",
   "execution_count": 25,
   "metadata": {},
   "outputs": [
    {
     "data": {
      "application/vnd.jupyter.widget-view+json": {
       "model_id": "406a190348314b49952ae59f6d033fda",
       "version_major": 2,
       "version_minor": 0
      },
      "text/plain": [
       "interactive(children=(Dropdown(description='idx', options=(0, 1, 2, 3), value=0), Output()), _dom_classes=('wi…"
      ]
     },
     "metadata": {},
     "output_type": "display_data"
    }
   ],
   "source": [
    "@interact\n",
    "def get_explore(idx=range(len(aligned_datasets))):\n",
    "    name = aligned_datasets[idx].data + '_' + aligned_datasets[idx].split_type + '_aligned'\n",
    "    print(\"!! %s !!\" % name.upper())\n",
    "    print(\"number of modalities               :\", aligned_datasets[idx].get_n_modalities())\n",
    "    print(\"seq_len of (text, audio, vision)   :\", aligned_datasets[idx].get_seq_len())\n",
    "    print(\"get_dim of (text, audio, vision)   :\", aligned_datasets[idx].get_dim())\n",
    "    print(\"(number of labels, label_dim)      :\", aligned_datasets[idx].get_lbl_info())"
   ]
  },
  {
   "cell_type": "code",
   "execution_count": null,
   "metadata": {},
   "outputs": [],
   "source": [
    "with open(dataset_path+'mosi_data.pkl', 'rb') as f:\n",
    "    mosi = pkl.load(f)"
   ]
  }
 ],
 "metadata": {
  "kernelspec": {
   "display_name": "Python 3.10.4 ('mm')",
   "language": "python",
   "name": "python3"
  },
  "language_info": {
   "codemirror_mode": {
    "name": "ipython",
    "version": 3
   },
   "file_extension": ".py",
   "mimetype": "text/x-python",
   "name": "python",
   "nbconvert_exporter": "python",
   "pygments_lexer": "ipython3",
   "version": "3.10.4"
  },
  "orig_nbformat": 4,
  "vscode": {
   "interpreter": {
    "hash": "deec9a5f5aa3ef13c68dd8e84e3dba1960cdbbebd46883ffcb84be005fc17f90"
   }
  }
 },
 "nbformat": 4,
 "nbformat_minor": 2
}
